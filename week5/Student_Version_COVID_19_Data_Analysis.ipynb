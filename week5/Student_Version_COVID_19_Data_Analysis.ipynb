{
  "nbformat": 4,
  "nbformat_minor": 0,
  "metadata": {
    "colab": {
      "provenance": []
    },
    "kernelspec": {
      "name": "python3",
      "display_name": "Python 3"
    },
    "language_info": {
      "name": "python"
    }
  },
  "cells": [
    {
      "cell_type": "markdown",
      "source": [
        "# COVID-19 Data Analysis with Pandas and Seaborn\n",
        "\n",
        "Time to practice our data analysis and visualization skills with Pandas and Seaborn using a real-world dataset on the COVID-19 pandemic.  \n",
        "\n",
        "The dataset used here is sourced from **Our World in Data**:  \n",
        "[https://ourworldindata.org/coronavirus](https://ourworldindata.org/coronavirus)  "
      ],
      "metadata": {
        "id": "Yt_8zLaMMA_q"
      }
    },
    {
      "cell_type": "code",
      "execution_count": null,
      "metadata": {
        "id": "KuCzHC2v_zYn"
      },
      "outputs": [],
      "source": [
        "# 🧪 1. Load the dataset using pandas and display the first 5 rows\n",
        "# We use pd.read_csv() to load, and .head() to preview\n",
        "import pandas as pd\n",
        "\n",
        "df = pd.read_csv(\"https://covid.ourworldindata.org/data/owid-covid-data.csv\")\n",
        "display(df.head())"
      ]
    },
    {
      "cell_type": "code",
      "source": [
        "# 🔍 2. What is the shape of the dataset, and what are the column names?\n",
        "# Hint: Use .shape to get (rows, columns) and .columns to list all column names"
      ],
      "metadata": {
        "id": "uIBI7ZUJ4yrN"
      },
      "execution_count": null,
      "outputs": []
    },
    {
      "cell_type": "code",
      "source": [
        "# ℹ️ 3. What types of data are in this dataset?\n",
        "# Hint: Use .info() to see data types and null values, and .describe() for stats"
      ],
      "metadata": {
        "id": "hqplLizw41Em"
      },
      "execution_count": null,
      "outputs": []
    },
    {
      "cell_type": "code",
      "source": [
        "# 4. How many unique countries are in the dataset? (Ignore regions and aggregates)\n",
        "# Hint: Filter rows where 'continent' is not missing, then count unique 'location'"
      ],
      "metadata": {
        "id": "l8GIb-Nn48uL"
      },
      "execution_count": null,
      "outputs": []
    },
    {
      "cell_type": "code",
      "source": [
        "# 5. Pick a country you like (e.g., \"Senegal\") and find its total COVID-19 cases in the latest available date.\n",
        "# Hint: Filter by country, then find the max date and total_cases for that date."
      ],
      "metadata": {
        "id": "hcXsCLYP7FLo"
      },
      "execution_count": null,
      "outputs": []
    },
    {
      "cell_type": "code",
      "source": [
        "# 6. What are the top 5 countries with the highest total deaths (use the latest available date for each country)?\n",
        "# Hint: For each country, find the latest total_deaths and then pick top 5."
      ],
      "metadata": {
        "id": "8MFYpsM15At2"
      },
      "execution_count": null,
      "outputs": []
    },
    {
      "cell_type": "code",
      "source": [
        "# 7. Make a bar chart showing these top 5 countries and their total deaths.\n",
        "# Hint: Use seaborn's .barplot() method visualizing previous result"
      ],
      "metadata": {
        "id": "-twyrL778gZ1"
      },
      "execution_count": null,
      "outputs": []
    }
  ]
}